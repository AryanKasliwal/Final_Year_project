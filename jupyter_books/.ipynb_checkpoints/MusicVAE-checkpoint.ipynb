{
 "cells": [
  {
   "cell_type": "code",
   "execution_count": null,
   "metadata": {
    "scrolled": true
   },
   "outputs": [
    {
     "name": "stdout",
     "output_type": "stream",
     "text": [
      "Copying checkpoints and modified SGM SoundFont (https://sites.google.com/site/soundfonts4u) from GCS.\n",
      "This will take a few minutes...\n",
      "zsh:1: no matches found: gs://download.magenta.tensorflow.org/models/music_vae/multitrack/*\n",
      "zsh:1: command not found: gsutil\n",
      "Installing dependencies...\n",
      "zsh:1: command not found: apt-get\n"
     ]
    }
   ],
   "source": [
    "#@title Setup Environment\n",
    "\n",
    "print('Copying checkpoints and modified SGM SoundFont (https://sites.google.com/site/soundfonts4u) from GCS.')\n",
    "print('This will take a few minutes...')\n",
    "!gsutil -q -m cp gs://download.magenta.tensorflow.org/models/music_vae/multitrack/* /content/\n",
    "!gsutil -q -m cp gs://download.magenta.tensorflow.org/soundfonts/SGM-v2.01-Sal-Guit-Bass-V1.3.sf2 /content/\n",
    "\n",
    "print('Installing dependencies...')\n",
    "!apt-get update -qq && apt-get install -qq libfluidsynth2 build-essential libasound2-dev libjack-dev\n",
    "!pip install -qU magenta pyfluidsynth pretty_midi\n",
    "\n",
    "print('Importing libraries...')\n",
    "\n",
    "import numpy as np\n",
    "import os\n",
    "import tensorflow.compat.v1 as tf\n",
    "\n",
    "from google.colab import files\n",
    "\n",
    "import magenta.music as mm\n",
    "from magenta.music.sequences_lib import concatenate_sequences\n",
    "from magenta.models.music_vae import configs\n",
    "from magenta.models.music_vae.trained_model import TrainedModel\n",
    "\n",
    "tf.disable_v2_behavior()\n",
    "print('Done!')"
   ]
  },
  {
   "cell_type": "code",
   "execution_count": null,
   "metadata": {},
   "outputs": [],
   "source": []
  },
  {
   "cell_type": "code",
   "execution_count": null,
   "metadata": {},
   "outputs": [],
   "source": []
  }
 ],
 "metadata": {
  "kernelspec": {
   "display_name": "Python 3 (ipykernel)",
   "language": "python",
   "name": "python3"
  },
  "language_info": {
   "codemirror_mode": {
    "name": "ipython",
    "version": 3
   },
   "file_extension": ".py",
   "mimetype": "text/x-python",
   "name": "python",
   "nbconvert_exporter": "python",
   "pygments_lexer": "ipython3",
   "version": "3.9.13"
  }
 },
 "nbformat": 4,
 "nbformat_minor": 2
}
